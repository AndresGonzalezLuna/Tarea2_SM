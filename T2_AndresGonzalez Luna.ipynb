{
 "cells": [
  {
   "cell_type": "markdown",
   "metadata": {},
   "source": [
    "## [Resumen 1](https://www.economist.com/science-and-technology/2018/07/19/python-has-brought-computer-programming-to-a-vast-new-audience)\n",
    "\n",
    "Guido van Rossum, en diciembre de 1989, se propuso un proyecto. Quiso construir el suyo propio. Sus principios eran simples. Primero, debe ser fácil de leer. En lugar de extenderse sobre los finales de línea y dividirse por una maraña de llaves, cada trozo estaría rodeado de un espacio en blanco con sangría. En segundo lugar, debería permitir a los usuarios crear sus propios paquetes de módulos de codificación de propósito especial, que luego podrían ponerse a disposición de otros para formar la base de nuevos programas. En tercer lugar, quería un nombre \"breve, único y ligeramente misterioso\". Por lo tanto, lo llamó por Monty Python, un grupo de comedia británico. El depósito de paquetes se conoció como Cheese Shop.\n",
    "Casi 30 años después de su invento navideño, Van Rossum se asemeja a una versión tecnológica del personaje de Monty Python que accidentalmente se convirtió en el Mesías en la película \"La vida de Brian\". \"Ciertamente, no me propuse crear un lenguaje destinado al consumo masivo\", explica. Las consultas en Google sobre el idioma Python incrementan mientras que las consultas sobres otros idiomas para programar disminuyen.\n",
    "\n",
    "## [Resumen 2](https://www.economist.com/graphic-detail/2018/07/26/python-is-becoming-the-worlds-most-popular-coding-language)\n",
    "\n",
    "Sasi tres décadas después, su invención ha superado casi todos sus rivales y puso la codificación al alcance de las personas que alguna vez se sintieron desconcertadas por ella. Las dos principales ventajas del idioma son su simplicidad y flexibilidad. Su sintaxis sencilla y el uso de espacios con sangría hacen que sea fácil de aprender, leer y compartir. Sus ávidos practicantes, conocidos como Pythonistas, han subido 145.000 paquetes de software personalizados a un repositorio en línea. Estos cubren todo, desde el desarrollo de juegos hasta la astronomía, y se pueden instalar e insertar en un programa de Python en cuestión de segundos. Esta versatilidad significa que la Agencia Central de Inteligencia lo ha utilizado para piratear, Google para rastrear páginas web, Pixar para producir películas y Spotify para recomendar canciones. Algunos de los paquetes más populares aprovechan el \"aprendizaje automático\", procesando grandes cantidades de datos para seleccionar patrones que de otro modo serían imperceptibles. Con una base de usuarios en crecimiento tan rápido y una amplia gama de capacidades, Python podría parecer destinado a convertirse en la lengua franca de la codificación, dejando obsoletos a todos los demás competidores. La verdad es que eso no es cierto, Python no reemplazará a C y C ++, que son \"opciones de nivel inferior\" que le dan al usuario más control sobre lo que sucede en el procesador de una computadora. Tampoco acabará con Java, que es popular para crear aplicaciones complicadas, o JavaScript, que impulsa la mayoría de las páginas web. Además, los Pythonistas que dan por sentada la supremacía de su idioma deben tener cuidado. Fortran, Lisp y Ada fueron muy populares en las décadas de 1980 y 1990, según el índice TIOBE, que rastrea las prácticas de codificación entre desarrolladores profesionales. Su uso se ha desplomado a medida que se dispone de opciones más eficientes. Ningún imperio, independientemente de su poder, puede durar para siempre.\n"
   ]
  },
  {
   "cell_type": "code",
   "execution_count": null,
   "metadata": {},
   "outputs": [],
   "source": []
  }
 ],
 "metadata": {
  "kernelspec": {
   "display_name": "Python 3",
   "language": "python",
   "name": "python3"
  },
  "language_info": {
   "codemirror_mode": {
    "name": "ipython",
    "version": 3
   },
   "file_extension": ".py",
   "mimetype": "text/x-python",
   "name": "python",
   "nbconvert_exporter": "python",
   "pygments_lexer": "ipython3",
   "version": "3.7.4"
  }
 },
 "nbformat": 4,
 "nbformat_minor": 2
}
